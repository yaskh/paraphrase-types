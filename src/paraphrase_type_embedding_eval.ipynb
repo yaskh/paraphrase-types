{
 "cells": [
  {
   "cell_type": "code",
   "execution_count": 8,
   "metadata": {},
   "outputs": [],
   "source": [
    "import numpy as np\n",
    "from datasets import load_dataset\n",
    "from scipy.spatial import distance\n",
    "import seaborn as sns\n",
    "import pandas as pd"
   ]
  },
  {
   "cell_type": "code",
   "execution_count": 9,
   "metadata": {},
   "outputs": [],
   "source": [
    "def filter_for_single_pt(df):\n",
    "    unique_paraphrase_types = set()\n",
    "    df['paraphrase_types'].apply(lambda x: unique_paraphrase_types.update(x) if isinstance(x, (list, np.ndarray)) else unique_paraphrase_types.add(x))\n",
    "    unique_paraphrase_types = list(unique_paraphrase_types)\n",
    "    paraphrase_type_data_dict = {}\n",
    "\n",
    "    for row in unique_paraphrase_types:\n",
    "        reduced_to_similar_paraphrase_type = df[df['paraphrase_types']\n",
    "                        .apply(lambda x: row in x if isinstance(x, (list, np.ndarray)) else row == x)]\n",
    "        paraphrase_type_data_dict[row] = reduced_to_similar_paraphrase_type\n",
    "\n",
    "    return paraphrase_type_data_dict"
   ]
  },
  {
   "cell_type": "code",
   "execution_count": 10,
   "metadata": {},
   "outputs": [
    {
     "name": "stdout",
     "output_type": "stream",
     "text": [
      "Entailment 81\n",
      "Change of format 207\n",
      "Subordination and nesting changes 448\n",
      "Same Polarity Substitution (named ent.) 448\n",
      "Addition/Deletion 2988\n",
      "Synthetic/analytic substitution 806\n",
      "Non-paraphrase 605\n",
      "Opposite polarity substitution (habitual) 4\n",
      "Identity 3870\n",
      "Ellipsis 64\n",
      "Converse substitution 42\n",
      "Opposite polarity substitution (contextual) 12\n",
      "Punctuation changes 748\n",
      "Derivational Changes 181\n",
      "Same Polarity Substitution (habitual) 681\n",
      "Semantic based 328\n",
      "Syntax/discourse structure changes 305\n",
      "Change of order 766\n",
      "Diathesis alternation 161\n",
      "Spelling changes 534\n",
      "Modal Verb Changes 180\n",
      "Inflectional Changes 544\n",
      "Direct/indirect style alternations 66\n",
      "Negation switching 20\n",
      "Same Polarity Substitution (contextual) 2511\n",
      "Coordination changes 47\n"
     ]
    }
   ],
   "source": [
    "df = load_dataset(\"jpwahle/etpc\")['train'].to_pandas()\n",
    "single_type_dict = filter_for_single_pt(df)\n",
    "\n",
    "for key, value in single_type_dict.items():\n",
    "    print(key, len(value))"
   ]
  },
  {
   "cell_type": "code",
   "execution_count": 11,
   "metadata": {},
   "outputs": [],
   "source": [
    "row = df[df['idx'] == '5_4']"
   ]
  },
  {
   "cell_type": "code",
   "execution_count": 28,
   "metadata": {},
   "outputs": [
    {
     "data": {
      "text/html": [
       "<div>\n",
       "<style scoped>\n",
       "    .dataframe tbody tr th:only-of-type {\n",
       "        vertical-align: middle;\n",
       "    }\n",
       "\n",
       "    .dataframe tbody tr th {\n",
       "        vertical-align: top;\n",
       "    }\n",
       "\n",
       "    .dataframe thead th {\n",
       "        text-align: right;\n",
       "    }\n",
       "</style>\n",
       "<table border=\"1\" class=\"dataframe\">\n",
       "  <thead>\n",
       "    <tr style=\"text-align: right;\">\n",
       "      <th></th>\n",
       "      <th>sentence1</th>\n",
       "      <th>sentence2</th>\n",
       "      <th>paraphrase_types</th>\n",
       "      <th>sentence1_segment_location_indices</th>\n",
       "      <th>sentence2_segment_location_indices</th>\n",
       "    </tr>\n",
       "  </thead>\n",
       "  <tbody>\n",
       "    <tr>\n",
       "      <th>4</th>\n",
       "      <td>The stock rose $2.11, or about 11 percent, to close Friday at $21.51 on the New York Stock Exchange.</td>\n",
       "      <td>PG&amp;E Corp. shares jumped $1.63 or 8 percent to $21.03 on the New York Stock Exchange on Friday.</td>\n",
       "      <td>[Same Polarity Substitution (contextual), Same Polarity Substitution (habitual), Same Polarity Substitution (contextual), Synthetic/analytic substitution, Change of order, Addition/Deletion, Identity, Non-paraphrase, Non-paraphrase, Non-paraphrase, Punctuation changes]</td>\n",
       "      <td>[[0, 1], [2], [11, 12, 14], [13], [13], [7], [3, 6, 9, 15, 17, 18, 19, 20, 21, 22, 23], [4], [8], [16]]</td>\n",
       "      <td>[[0, 1, 2, 3, 4], [5], [11], [20, 21], [20, 21], [6, 8, 10, 12, 14, 15, 16, 17, 18, 19, 22], [7], [9], [13], [0, 1, 2, 3, 4, 5, 6, 7, 8, 9, 10, 11, 12, 13, 14, 15, 16, 17, 18, 19, 20, 21, 22]]</td>\n",
       "    </tr>\n",
       "  </tbody>\n",
       "</table>\n",
       "</div>"
      ],
      "text/plain": [
       "                                                                                              sentence1  \\\n",
       "4  The stock rose $2.11, or about 11 percent, to close Friday at $21.51 on the New York Stock Exchange.   \n",
       "\n",
       "                                                                                         sentence2  \\\n",
       "4  PG&E Corp. shares jumped $1.63 or 8 percent to $21.03 on the New York Stock Exchange on Friday.   \n",
       "\n",
       "                                                                                                                                                                                                                                                                paraphrase_types  \\\n",
       "4  [Same Polarity Substitution (contextual), Same Polarity Substitution (habitual), Same Polarity Substitution (contextual), Synthetic/analytic substitution, Change of order, Addition/Deletion, Identity, Non-paraphrase, Non-paraphrase, Non-paraphrase, Punctuation changes]   \n",
       "\n",
       "                                                                        sentence1_segment_location_indices  \\\n",
       "4  [[0, 1], [2], [11, 12, 14], [13], [13], [7], [3, 6, 9, 15, 17, 18, 19, 20, 21, 22, 23], [4], [8], [16]]   \n",
       "\n",
       "                                                                                                                                                                 sentence2_segment_location_indices  \n",
       "4  [[0, 1, 2, 3, 4], [5], [11], [20, 21], [20, 21], [6, 8, 10, 12, 14, 15, 16, 17, 18, 19, 22], [7], [9], [13], [0, 1, 2, 3, 4, 5, 6, 7, 8, 9, 10, 11, 12, 13, 14, 15, 16, 17, 18, 19, 20, 21, 22]]  "
      ]
     },
     "execution_count": 28,
     "metadata": {},
     "output_type": "execute_result"
    }
   ],
   "source": [
    "pd.set_option('display.max_colwidth', None)\n",
    "row[['sentence1', 'sentence2', 'paraphrase_types', 'sentence1_segment_location_indices', 'sentence2_segment_location_indices']]"
   ]
  },
  {
   "cell_type": "code",
   "execution_count": 29,
   "metadata": {},
   "outputs": [
    {
     "data": {
      "text/plain": [
       "'The stock rose $2.11, or about 11 percent, to close Friday at $21.51 on the New York Stock Exchange.'"
      ]
     },
     "execution_count": 29,
     "metadata": {},
     "output_type": "execute_result"
    }
   ],
   "source": [
    "row['sentence1'].values[0]"
   ]
  },
  {
   "cell_type": "code",
   "execution_count": 43,
   "metadata": {},
   "outputs": [
    {
     "name": "stdout",
     "output_type": "stream",
     "text": [
      "('The stock', array([0, 1], dtype=int32))\n",
      "('rose', array([2], dtype=int32))\n",
      "('to close at', array([11, 12, 14], dtype=int32))\n",
      "('Friday', array([13], dtype=int32))\n",
      "('Friday', array([13], dtype=int32))\n",
      "('about', array([7], dtype=int32))\n",
      "('$ or percent $ on the New York Stock Exchange .', array([ 3,  6,  9, 15, 17, 18, 19, 20, 21, 22, 23], dtype=int32))\n",
      "('2.11', array([4], dtype=int32))\n",
      "('11', array([8], dtype=int32))\n",
      "('21.51', array([16], dtype=int32))\n",
      "0 The\n",
      "1 stock\n",
      "2 rose\n",
      "3 $2.11,\n",
      "4 or\n",
      "5 about\n",
      "6 11\n",
      "7 percent,\n",
      "8 to\n",
      "9 close\n",
      "10 Friday\n",
      "11 at\n",
      "12 $21.51\n",
      "13 on\n",
      "14 the\n",
      "15 New\n",
      "16 York\n",
      "17 Stock\n",
      "18 Exchange.\n"
     ]
    }
   ],
   "source": []
  },
  {
   "cell_type": "code",
   "execution_count": 43,
   "metadata": {},
   "outputs": [
    {
     "name": "stdout",
     "output_type": "stream",
     "text": [
      "4\n",
      "19\n",
      "\n"
     ]
    }
   ],
   "source": []
  },
  {
   "cell_type": "code",
   "execution_count": 5,
   "metadata": {},
   "outputs": [
    {
     "data": {
      "text/plain": [
       "24"
      ]
     },
     "execution_count": 5,
     "metadata": {},
     "output_type": "execute_result"
    }
   ],
   "source": [
    "len([\"The\", \"stock\", \"rose\", \"$\", \"2.11\", \",\", \"or\", \"about\", \"11\", \"percent\", \",\", \"to\", \"close\", \"Friday\", \"at\", \"$\", \"21.51\", \"on\", \"the\", \"New\", \"York\", \"Stock\", \"Exchange\", \".\"])"
   ]
  },
  {
   "cell_type": "code",
   "execution_count": 25,
   "metadata": {},
   "outputs": [
    {
     "name": "stdout",
     "output_type": "stream",
     "text": [
      "['the', 'stock', 'rose', '$', '2', '.', '11', ',', 'or', 'about', '11', 'percent', ',', 'to', 'close', 'friday', 'at', '$', '21', '.', '51', 'on', 'the', 'new', 'york', 'stock', 'exchange', '.']\n"
     ]
    }
   ],
   "source": [
    "from transformers import BertTokenizer\n",
    "\n",
    "tokenizer = BertTokenizer.from_pretrained('/Users/yasir/github/paraphrase-types/out/cls-models/bert-large-uncased-jpwahle/etpc-paraphrase-detection/checkpoint-3045')\n",
    "input_string = \"The stock rose $2.11, or about 11 percent, to close Friday at $21.51 on the New York Stock Exchange.\"\n",
    "tokens = tokenizer.tokenize(input_string)\n",
    "\n",
    "print(tokens)\n"
   ]
  },
  {
   "cell_type": "code",
   "execution_count": 27,
   "metadata": {},
   "outputs": [
    {
     "data": {
      "text/plain": [
       "0                                                                                                                                [whom, called, Amrozi accused his brother, `` the witness '' , of deliberately distorting his evidence .]\n",
       "1                                                                                                                                                                                                                                       []\n",
       "2                                                                                                                          [They, cargo, on June 10, , he added, had published an advertisement on the Internet , offering the for sale .]\n",
       "3                                                                                                                                                                                                                                       []\n",
       "4       [The stock, rose, to close at, Friday, Friday, about, $ or percent $ on the New York Stock Exchange ., 2.11, 11, 21.51, The stock rose $ 2.11 , or about 11 percent , to close Friday at $ 21.51 on the New York Stock Exchange .]\n",
       "                                                                                                                       ...                                                                                                                \n",
       "5796                                                                                                                                                                                                                                    []\n",
       "5797                                                                                                                                                                                                                                    []\n",
       "5798                                                                                                                                                                                                                                    []\n",
       "5799                                                                 [Corp, power station’s, US, owners, Last week, financial, , AES , walked away from the plant after banks and bondholders refused to accept its restructuring offer .]\n",
       "5800                                        [Sobig.F, as, ,, such familiar, `` Re : That Movie '', spreads when unsuspecting computer users open file attachments in emails that contain headings `` Thank You ! '' `` Re : Details '' '']\n",
       "Name: sentence1_segment_text, Length: 5801, dtype: object"
      ]
     },
     "execution_count": 27,
     "metadata": {},
     "output_type": "execute_result"
    }
   ],
   "source": [
    "df['sentence1_segment_text']"
   ]
  },
  {
   "cell_type": "code",
   "execution_count": 44,
   "metadata": {},
   "outputs": [
    {
     "data": {
      "text/html": [
       "<div>\n",
       "<style scoped>\n",
       "    .dataframe tbody tr th:only-of-type {\n",
       "        vertical-align: middle;\n",
       "    }\n",
       "\n",
       "    .dataframe tbody tr th {\n",
       "        vertical-align: top;\n",
       "    }\n",
       "\n",
       "    .dataframe thead th {\n",
       "        text-align: right;\n",
       "    }\n",
       "</style>\n",
       "<table border=\"1\" class=\"dataframe\">\n",
       "  <thead>\n",
       "    <tr style=\"text-align: right;\">\n",
       "      <th></th>\n",
       "      <th>idx</th>\n",
       "      <th>sentence1</th>\n",
       "      <th>sentence2</th>\n",
       "      <th>sentence1_tokenized</th>\n",
       "      <th>sentence2_tokenized</th>\n",
       "      <th>etpc_label</th>\n",
       "      <th>mrpc_label</th>\n",
       "      <th>negation</th>\n",
       "      <th>paraphrase_types</th>\n",
       "      <th>paraphrase_type_ids</th>\n",
       "      <th>sentence1_segment_location</th>\n",
       "      <th>sentence2_segment_location</th>\n",
       "      <th>sentence1_segment_location_indices</th>\n",
       "      <th>sentence2_segment_location_indices</th>\n",
       "      <th>sentence1_segment_text</th>\n",
       "      <th>sentence2_segment_text</th>\n",
       "    </tr>\n",
       "  </thead>\n",
       "  <tbody>\n",
       "    <tr>\n",
       "      <th>0</th>\n",
       "      <td>1_0</td>\n",
       "      <td>Amrozi accused his brother, whom he called \"the witness\", of deliberately distorting his evidence.</td>\n",
       "      <td>Referring to him as only \"the witness\", Amrozi accused his brother of deliberately distorting his evidence.</td>\n",
       "      <td>[Amrozi, accused, his, brother, ,, whom, he, called, ``, the, witness, '', ,, of, deliberately, distorting, his, evidence, .]</td>\n",
       "      <td>[Referring, to, him, as, only, ``, the, witness, '', ,, Amrozi, accused, his, brother, of, deliberately, distorting, his, evidence, .\\n]</td>\n",
       "      <td>1</td>\n",
       "      <td>1</td>\n",
       "      <td>0</td>\n",
       "      <td>[Same Polarity Substitution (habitual), Same Polarity Substitution (contextual), Change of order, Addition/Deletion, Identity]</td>\n",
       "      <td>[5, 6, 26, 25, 29]</td>\n",
       "      <td>[26, 26, 26, 26, 0, 5, 0, 6, 25, 25, 25, 25, 25, 25, 25, 25, 25, 25, 25]</td>\n",
       "      <td>[6, 5, 5, 0, 25, 0, 0, 0, 0, 0, 26, 26, 26, 26, 0, 0, 0, 0, 0, 0]</td>\n",
       "      <td>[[5], [7], [0, 1, 2, 3], [8, 9, 10, 11, 12, 13, 14, 15, 16, 17, 18]]</td>\n",
       "      <td>[[1, 2], [0], [10, 11, 12, 13], [4]]</td>\n",
       "      <td>[whom, called, Amrozi accused his brother, `` the witness '' , of deliberately distorting his evidence .]</td>\n",
       "      <td>[to him, Referring, Amrozi accused his brother, only, `` the witness '' , of deliberately distorting his evidence .\\n]</td>\n",
       "    </tr>\n",
       "    <tr>\n",
       "      <th>1</th>\n",
       "      <td>2_1</td>\n",
       "      <td>Yucaipa owned Dominick's before selling the chain to Safeway in 1998 for $2.5 billion.</td>\n",
       "      <td>Yucaipa bought Dominick's in 1995 for $693 million and sold it to Safeway for $1.8 billion in 1998.</td>\n",
       "      <td>[Yucaipa, owned, Dominick, 's, before, selling, the, chain, to, Safeway, in, 1998, for, $, 2.5, billion, .]</td>\n",
       "      <td>[Yucaipa, bought, Dominick, 's, in, 1995, for, $, 693, million, and, sold, it, to, Safeway, for, $, 1.8, billion, in, 1998, .\\n]</td>\n",
       "      <td>0</td>\n",
       "      <td>0</td>\n",
       "      <td>0</td>\n",
       "      <td>[]</td>\n",
       "      <td>[]</td>\n",
       "      <td>[0, 0, 0, 0, 0, 0, 0, 0, 0, 0, 0, 0, 0, 0, 0, 0, 0]</td>\n",
       "      <td>[0, 0, 0, 0, 0, 0, 0, 0, 0, 0, 0, 0, 0, 0, 0, 0, 0, 0, 0, 0, 0, 0]</td>\n",
       "      <td>[]</td>\n",
       "      <td>[]</td>\n",
       "      <td>[]</td>\n",
       "      <td>[]</td>\n",
       "    </tr>\n",
       "    <tr>\n",
       "      <th>2</th>\n",
       "      <td>3_2</td>\n",
       "      <td>They had published an advertisement on the Internet on June 10, offering the cargo for sale, he added.</td>\n",
       "      <td>On June 10, the ship's owners had published an advertisement on the Internet, offering the explosives for sale.</td>\n",
       "      <td>[They, had, published, an, advertisement, on, the, Internet, on, June, 10, ,, offering, the, cargo, for, sale, ,, he, added, .]</td>\n",
       "      <td>[On, June, 10, ,, the, ship, 's, owners, had, published, an, advertisement, on, the, Internet, ,, offering, the, explosives, for, sale, .\\n]</td>\n",
       "      <td>1</td>\n",
       "      <td>1</td>\n",
       "      <td>0</td>\n",
       "      <td>[Same Polarity Substitution (contextual), Same Polarity Substitution (contextual), Change of order, Addition/Deletion, Identity]</td>\n",
       "      <td>[6, 6, 26, 25, 29]</td>\n",
       "      <td>[6, 0, 0, 0, 0, 0, 0, 0, 26, 26, 26, 0, 0, 0, 6, 0, 0, 25, 25, 25, 0]</td>\n",
       "      <td>[26, 26, 26, 26, 6, 6, 6, 6, 25, 25, 25, 25, 25, 25, 25, 25, 25, 25, 6, 25, 25, 25]</td>\n",
       "      <td>[[0], [14], [8, 9, 10], [17, 18, 19]]</td>\n",
       "      <td>[[4, 5, 6, 7], [18], [0, 1, 2, 3], [8, 9, 10, 11, 12, 13, 14, 15, 16, 17, 19, 20, 21]]</td>\n",
       "      <td>[They, cargo, on June 10, , he added, had published an advertisement on the Internet , offering the for sale .]</td>\n",
       "      <td>[the ship 's owners, explosives, On June 10 ,, had published an advertisement on the Internet , offering the for sale .\\n]</td>\n",
       "    </tr>\n",
       "    <tr>\n",
       "      <th>3</th>\n",
       "      <td>4_3</td>\n",
       "      <td>Around 0335 GMT, Tab shares were up 19 cents, or 4.4%, at A$4.56, having earlier set a record high of A$4.57.</td>\n",
       "      <td>Tab shares jumped 20 cents, or 4.6%, to set a record closing high at A$4.57.</td>\n",
       "      <td>[Around, 0335, GMT, ,, Tab, shares, were, up, 19, cents, ,, or, 4.4, %, ,, at, A, $, 4.56, ,, having, earlier, set, a, record, high, of, A, $, 4.57, .]</td>\n",
       "      <td>[Tab, shares, jumped, 20, cents, ,, or, 4.6, %, ,, to, set, a, record, closing, high, at, A, $, 4.57, .\\n]</td>\n",
       "      <td>0</td>\n",
       "      <td>0</td>\n",
       "      <td>0</td>\n",
       "      <td>[]</td>\n",
       "      <td>[]</td>\n",
       "      <td>[0, 0, 0, 0, 0, 0, 0, 0, 0, 0, 0, 0, 0, 0, 0, 0, 0, 0, 0, 0, 0, 0, 0, 0, 0, 0, 0, 0, 0, 0, 0]</td>\n",
       "      <td>[0, 0, 0, 0, 0, 0, 0, 0, 0, 0, 0, 0, 0, 0, 0, 0, 0, 0, 0, 0, 0]</td>\n",
       "      <td>[]</td>\n",
       "      <td>[]</td>\n",
       "      <td>[]</td>\n",
       "      <td>[]</td>\n",
       "    </tr>\n",
       "    <tr>\n",
       "      <th>4</th>\n",
       "      <td>5_4</td>\n",
       "      <td>The stock rose $2.11, or about 11 percent, to close Friday at $21.51 on the New York Stock Exchange.</td>\n",
       "      <td>PG&amp;E Corp. shares jumped $1.63 or 8 percent to $21.03 on the New York Stock Exchange on Friday.</td>\n",
       "      <td>[The, stock, rose, $, 2.11, ,, or, about, 11, percent, ,, to, close, Friday, at, $, 21.51, on, the, New, York, Stock, Exchange, .]</td>\n",
       "      <td>[PG, &amp;, E, Corp., shares, jumped, $, 1.63, or, 8, percent, to, $, 21.03, on, the, New, York, Stock, Exchange, on, Friday, .\\n]</td>\n",
       "      <td>0</td>\n",
       "      <td>1</td>\n",
       "      <td>0</td>\n",
       "      <td>[Same Polarity Substitution (contextual), Same Polarity Substitution (habitual), Same Polarity Substitution (contextual), Synthetic/analytic substitution, Change of order, Addition/Deletion, Identity, Non-paraphrase, Non-paraphrase, Non-paraphrase, Punctuation changes]</td>\n",
       "      <td>[6, 5, 6, 11, 26, 25, 29, 30, 30, 30, 21]</td>\n",
       "      <td>[6, 6, 5, 29, 30, 0, 29, 25, 30, 29, 0, 6, 6, 26, 6, 29, 30, 29, 29, 29, 29, 29, 29, 29]</td>\n",
       "      <td>[30, 30, 30, 30, 30, 30, 30, 30, 30, 30, 30, 30, 30, 30, 30, 30, 30, 30, 30, 30, 30, 30, 30]</td>\n",
       "      <td>[[0, 1], [2], [11, 12, 14], [13], [13], [7], [3, 6, 9, 15, 17, 18, 19, 20, 21, 22, 23], [4], [8], [16]]</td>\n",
       "      <td>[[0, 1, 2, 3, 4], [5], [11], [20, 21], [20, 21], [6, 8, 10, 12, 14, 15, 16, 17, 18, 19, 22], [7], [9], [13], [0, 1, 2, 3, 4, 5, 6, 7, 8, 9, 10, 11, 12, 13, 14, 15, 16, 17, 18, 19, 20, 21, 22]]</td>\n",
       "      <td>[The stock, rose, to close at, Friday, Friday, about, $ or percent $ on the New York Stock Exchange ., 2.11, 11, 21.51, The stock rose $ 2.11 , or about 11 percent , to close Friday at $ 21.51 on the New York Stock Exchange .]</td>\n",
       "      <td>[PG &amp; E Corp. shares, jumped, to, on Friday, on Friday, $ or percent $ on the New York Stock Exchange .\\n, 1.63, 8, 21.03, PG &amp; E Corp. shares jumped $ 1.63 or 8 percent to $ 21.03 on the New York Stock Exchange on Friday .\\n]</td>\n",
       "    </tr>\n",
       "  </tbody>\n",
       "</table>\n",
       "</div>"
      ],
      "text/plain": [
       "   idx  \\\n",
       "0  1_0   \n",
       "1  2_1   \n",
       "2  3_2   \n",
       "3  4_3   \n",
       "4  5_4   \n",
       "\n",
       "                                                                                                       sentence1  \\\n",
       "0             Amrozi accused his brother, whom he called \"the witness\", of deliberately distorting his evidence.   \n",
       "1                         Yucaipa owned Dominick's before selling the chain to Safeway in 1998 for $2.5 billion.   \n",
       "2         They had published an advertisement on the Internet on June 10, offering the cargo for sale, he added.   \n",
       "3  Around 0335 GMT, Tab shares were up 19 cents, or 4.4%, at A$4.56, having earlier set a record high of A$4.57.   \n",
       "4           The stock rose $2.11, or about 11 percent, to close Friday at $21.51 on the New York Stock Exchange.   \n",
       "\n",
       "                                                                                                         sentence2  \\\n",
       "0      Referring to him as only \"the witness\", Amrozi accused his brother of deliberately distorting his evidence.   \n",
       "1              Yucaipa bought Dominick's in 1995 for $693 million and sold it to Safeway for $1.8 billion in 1998.   \n",
       "2  On June 10, the ship's owners had published an advertisement on the Internet, offering the explosives for sale.   \n",
       "3                                     Tab shares jumped 20 cents, or 4.6%, to set a record closing high at A$4.57.   \n",
       "4                  PG&E Corp. shares jumped $1.63 or 8 percent to $21.03 on the New York Stock Exchange on Friday.   \n",
       "\n",
       "                                                                                                                                       sentence1_tokenized  \\\n",
       "0                            [Amrozi, accused, his, brother, ,, whom, he, called, ``, the, witness, '', ,, of, deliberately, distorting, his, evidence, .]   \n",
       "1                                              [Yucaipa, owned, Dominick, 's, before, selling, the, chain, to, Safeway, in, 1998, for, $, 2.5, billion, .]   \n",
       "2                          [They, had, published, an, advertisement, on, the, Internet, on, June, 10, ,, offering, the, cargo, for, sale, ,, he, added, .]   \n",
       "3  [Around, 0335, GMT, ,, Tab, shares, were, up, 19, cents, ,, or, 4.4, %, ,, at, A, $, 4.56, ,, having, earlier, set, a, record, high, of, A, $, 4.57, .]   \n",
       "4                       [The, stock, rose, $, 2.11, ,, or, about, 11, percent, ,, to, close, Friday, at, $, 21.51, on, the, New, York, Stock, Exchange, .]   \n",
       "\n",
       "                                                                                                                            sentence2_tokenized  \\\n",
       "0      [Referring, to, him, as, only, ``, the, witness, '', ,, Amrozi, accused, his, brother, of, deliberately, distorting, his, evidence, .\\n]   \n",
       "1              [Yucaipa, bought, Dominick, 's, in, 1995, for, $, 693, million, and, sold, it, to, Safeway, for, $, 1.8, billion, in, 1998, .\\n]   \n",
       "2  [On, June, 10, ,, the, ship, 's, owners, had, published, an, advertisement, on, the, Internet, ,, offering, the, explosives, for, sale, .\\n]   \n",
       "3                                    [Tab, shares, jumped, 20, cents, ,, or, 4.6, %, ,, to, set, a, record, closing, high, at, A, $, 4.57, .\\n]   \n",
       "4                [PG, &, E, Corp., shares, jumped, $, 1.63, or, 8, percent, to, $, 21.03, on, the, New, York, Stock, Exchange, on, Friday, .\\n]   \n",
       "\n",
       "   etpc_label  mrpc_label  negation  \\\n",
       "0           1           1         0   \n",
       "1           0           0         0   \n",
       "2           1           1         0   \n",
       "3           0           0         0   \n",
       "4           0           1         0   \n",
       "\n",
       "                                                                                                                                                                                                                                                                paraphrase_types  \\\n",
       "0                                                                                                                                                 [Same Polarity Substitution (habitual), Same Polarity Substitution (contextual), Change of order, Addition/Deletion, Identity]   \n",
       "1                                                                                                                                                                                                                                                                             []   \n",
       "2                                                                                                                                               [Same Polarity Substitution (contextual), Same Polarity Substitution (contextual), Change of order, Addition/Deletion, Identity]   \n",
       "3                                                                                                                                                                                                                                                                             []   \n",
       "4  [Same Polarity Substitution (contextual), Same Polarity Substitution (habitual), Same Polarity Substitution (contextual), Synthetic/analytic substitution, Change of order, Addition/Deletion, Identity, Non-paraphrase, Non-paraphrase, Non-paraphrase, Punctuation changes]   \n",
       "\n",
       "                         paraphrase_type_ids  \\\n",
       "0                         [5, 6, 26, 25, 29]   \n",
       "1                                         []   \n",
       "2                         [6, 6, 26, 25, 29]   \n",
       "3                                         []   \n",
       "4  [6, 5, 6, 11, 26, 25, 29, 30, 30, 30, 21]   \n",
       "\n",
       "                                                                      sentence1_segment_location  \\\n",
       "0                       [26, 26, 26, 26, 0, 5, 0, 6, 25, 25, 25, 25, 25, 25, 25, 25, 25, 25, 25]   \n",
       "1                                            [0, 0, 0, 0, 0, 0, 0, 0, 0, 0, 0, 0, 0, 0, 0, 0, 0]   \n",
       "2                          [6, 0, 0, 0, 0, 0, 0, 0, 26, 26, 26, 0, 0, 0, 6, 0, 0, 25, 25, 25, 0]   \n",
       "3  [0, 0, 0, 0, 0, 0, 0, 0, 0, 0, 0, 0, 0, 0, 0, 0, 0, 0, 0, 0, 0, 0, 0, 0, 0, 0, 0, 0, 0, 0, 0]   \n",
       "4       [6, 6, 5, 29, 30, 0, 29, 25, 30, 29, 0, 6, 6, 26, 6, 29, 30, 29, 29, 29, 29, 29, 29, 29]   \n",
       "\n",
       "                                                                     sentence2_segment_location  \\\n",
       "0                             [6, 5, 5, 0, 25, 0, 0, 0, 0, 0, 26, 26, 26, 26, 0, 0, 0, 0, 0, 0]   \n",
       "1                            [0, 0, 0, 0, 0, 0, 0, 0, 0, 0, 0, 0, 0, 0, 0, 0, 0, 0, 0, 0, 0, 0]   \n",
       "2           [26, 26, 26, 26, 6, 6, 6, 6, 25, 25, 25, 25, 25, 25, 25, 25, 25, 25, 6, 25, 25, 25]   \n",
       "3                               [0, 0, 0, 0, 0, 0, 0, 0, 0, 0, 0, 0, 0, 0, 0, 0, 0, 0, 0, 0, 0]   \n",
       "4  [30, 30, 30, 30, 30, 30, 30, 30, 30, 30, 30, 30, 30, 30, 30, 30, 30, 30, 30, 30, 30, 30, 30]   \n",
       "\n",
       "                                                                        sentence1_segment_location_indices  \\\n",
       "0                                     [[5], [7], [0, 1, 2, 3], [8, 9, 10, 11, 12, 13, 14, 15, 16, 17, 18]]   \n",
       "1                                                                                                       []   \n",
       "2                                                                    [[0], [14], [8, 9, 10], [17, 18, 19]]   \n",
       "3                                                                                                       []   \n",
       "4  [[0, 1], [2], [11, 12, 14], [13], [13], [7], [3, 6, 9, 15, 17, 18, 19, 20, 21, 22, 23], [4], [8], [16]]   \n",
       "\n",
       "                                                                                                                                                                 sentence2_segment_location_indices  \\\n",
       "0                                                                                                                                                              [[1, 2], [0], [10, 11, 12, 13], [4]]   \n",
       "1                                                                                                                                                                                                []   \n",
       "2                                                                                                            [[4, 5, 6, 7], [18], [0, 1, 2, 3], [8, 9, 10, 11, 12, 13, 14, 15, 16, 17, 19, 20, 21]]   \n",
       "3                                                                                                                                                                                                []   \n",
       "4  [[0, 1, 2, 3, 4], [5], [11], [20, 21], [20, 21], [6, 8, 10, 12, 14, 15, 16, 17, 18, 19, 22], [7], [9], [13], [0, 1, 2, 3, 4, 5, 6, 7, 8, 9, 10, 11, 12, 13, 14, 15, 16, 17, 18, 19, 20, 21, 22]]   \n",
       "\n",
       "                                                                                                                                                                                                               sentence1_segment_text  \\\n",
       "0                                                                                                                           [whom, called, Amrozi accused his brother, `` the witness '' , of deliberately distorting his evidence .]   \n",
       "1                                                                                                                                                                                                                                  []   \n",
       "2                                                                                                                     [They, cargo, on June 10, , he added, had published an advertisement on the Internet , offering the for sale .]   \n",
       "3                                                                                                                                                                                                                                  []   \n",
       "4  [The stock, rose, to close at, Friday, Friday, about, $ or percent $ on the New York Stock Exchange ., 2.11, 11, 21.51, The stock rose $ 2.11 , or about 11 percent , to close Friday at $ 21.51 on the New York Stock Exchange .]   \n",
       "\n",
       "                                                                                                                                                                                                               sentence2_segment_text  \n",
       "0                                                                                                              [to him, Referring, Amrozi accused his brother, only, `` the witness '' , of deliberately distorting his evidence .\\n]  \n",
       "1                                                                                                                                                                                                                                  []  \n",
       "2                                                                                                          [the ship 's owners, explosives, On June 10 ,, had published an advertisement on the Internet , offering the for sale .\\n]  \n",
       "3                                                                                                                                                                                                                                  []  \n",
       "4  [PG & E Corp. shares, jumped, to, on Friday, on Friday, $ or percent $ on the New York Stock Exchange .\\n, 1.63, 8, 21.03, PG & E Corp. shares jumped $ 1.63 or 8 percent to $ 21.03 on the New York Stock Exchange on Friday .\\n]  "
      ]
     },
     "execution_count": 44,
     "metadata": {},
     "output_type": "execute_result"
    }
   ],
   "source": [
    "df.head()"
   ]
  },
  {
   "cell_type": "code",
   "execution_count": null,
   "metadata": {},
   "outputs": [],
   "source": []
  }
 ],
 "metadata": {
  "kernelspec": {
   "display_name": "ml",
   "language": "python",
   "name": "python3"
  },
  "language_info": {
   "codemirror_mode": {
    "name": "ipython",
    "version": 3
   },
   "file_extension": ".py",
   "mimetype": "text/x-python",
   "name": "python",
   "nbconvert_exporter": "python",
   "pygments_lexer": "ipython3",
   "version": "3.12.3"
  }
 },
 "nbformat": 4,
 "nbformat_minor": 2
}
